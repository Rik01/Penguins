{
 "cells": [
  {
   "cell_type": "code",
   "execution_count": null,
   "metadata": {},
   "outputs": [],
   "source": [
    "library(dplyr)\n",
    "library(tidyverse)\n",
    "library(ggplot2)\n",
    "install.packages('factoextra')\n",
    "library(factoextra)\n",
    "library(cluster)\n",
    "library(caret)\n",
    "library(gridExtra)\n",
    "library(grid)\n",
    "install.packages('GGally')\n",
    "library(GGally)\n",
    "library(ggridges)\n",
    "library(ggthemes)\n",
    "library(dbscan)"
   ]
  },
  {
   "cell_type": "code",
   "execution_count": 2,
   "metadata": {},
   "outputs": [],
   "source": [
    "library(dplyr)"
   ]
  },
  {
   "cell_type": "code",
   "execution_count": 3,
   "metadata": {},
   "outputs": [
    {
     "name": "stderr",
     "output_type": "stream",
     "text": [
      "Registered S3 methods overwritten by 'ggplot2':\n",
      "  method         from \n",
      "  [.quosures     rlang\n",
      "  c.quosures     rlang\n",
      "  print.quosures rlang\n",
      "Registered S3 method overwritten by 'rvest':\n",
      "  method            from\n",
      "  read_xml.response xml2\n",
      "-- Attaching packages --------------------------------------- tidyverse 1.2.1 --\n",
      "v ggplot2 3.1.1     v readr   1.3.1\n",
      "v tibble  2.1.1     v purrr   0.3.2\n",
      "v tidyr   0.8.3     v stringr 1.4.0\n",
      "v ggplot2 3.1.1     v forcats 0.4.0\n",
      "-- Conflicts ------------------------------------------ tidyverse_conflicts() --\n",
      "x dplyr::filter() masks stats::filter()\n",
      "x dplyr::lag()    masks stats::lag()\n"
     ]
    }
   ],
   "source": [
    "library(tidyverse)"
   ]
  },
  {
   "cell_type": "code",
   "execution_count": 4,
   "metadata": {},
   "outputs": [],
   "source": [
    "library(ggplot2)"
   ]
  },
  {
   "cell_type": "code",
   "execution_count": 5,
   "metadata": {},
   "outputs": [
    {
     "name": "stderr",
     "output_type": "stream",
     "text": [
      "Warning message:\n",
      "\"package 'factoextra' was built under R version 3.6.3\"Welcome! Want to learn more? See two factoextra-related books at https://goo.gl/ve3WBa\n"
     ]
    }
   ],
   "source": [
    "library(factoextra)"
   ]
  },
  {
   "cell_type": "code",
   "execution_count": 6,
   "metadata": {},
   "outputs": [],
   "source": [
    "library(cluster)"
   ]
  },
  {
   "cell_type": "code",
   "execution_count": 7,
   "metadata": {},
   "outputs": [
    {
     "name": "stderr",
     "output_type": "stream",
     "text": [
      "Loading required package: lattice\n",
      "\n",
      "Attaching package: 'caret'\n",
      "\n",
      "The following object is masked from 'package:purrr':\n",
      "\n",
      "    lift\n",
      "\n"
     ]
    }
   ],
   "source": [
    "library(caret)"
   ]
  },
  {
   "cell_type": "code",
   "execution_count": 8,
   "metadata": {},
   "outputs": [
    {
     "name": "stderr",
     "output_type": "stream",
     "text": [
      "Warning message:\n",
      "\"package 'gridExtra' was built under R version 3.6.3\"\n",
      "Attaching package: 'gridExtra'\n",
      "\n",
      "The following object is masked from 'package:dplyr':\n",
      "\n",
      "    combine\n",
      "\n"
     ]
    }
   ],
   "source": [
    "library(gridExtra)"
   ]
  },
  {
   "cell_type": "code",
   "execution_count": 26,
   "metadata": {},
   "outputs": [],
   "source": [
    "library(grid)"
   ]
  },
  {
   "cell_type": "code",
   "execution_count": 20,
   "metadata": {},
   "outputs": [
    {
     "name": "stderr",
     "output_type": "stream",
     "text": [
      "also installing the dependencies 'rlang', 'glue', 'tibble', 'tidyselect', 'pillar', 'ggplot2', 'dplyr', 'lifecycle', 'scales'\n",
      "\n"
     ]
    },
    {
     "name": "stdout",
     "output_type": "stream",
     "text": [
      "\n",
      "  There are binary versions available but the source versions are later:\n",
      "          binary source needs_compilation\n",
      "rlang     0.4.11 0.4.12              TRUE\n",
      "glue       1.4.2  1.6.0              TRUE\n",
      "tibble     3.1.1  3.1.6              TRUE\n",
      "pillar     1.6.0  1.6.4             FALSE\n",
      "ggplot2    3.3.3  3.3.5             FALSE\n",
      "dplyr      1.0.6  1.0.7              TRUE\n",
      "lifecycle  1.0.0  1.0.1             FALSE\n",
      "GGally     2.1.1  2.1.2             FALSE\n",
      "\n",
      "  Binaries will be installed\n"
     ]
    },
    {
     "name": "stderr",
     "output_type": "stream",
     "text": [
      "Warning message:\n",
      "\"packages 'tibble', 'dplyr' are in use and will not be installed\""
     ]
    },
    {
     "name": "stdout",
     "output_type": "stream",
     "text": [
      "package 'rlang' successfully unpacked and MD5 sums checked\n"
     ]
    },
    {
     "name": "stderr",
     "output_type": "stream",
     "text": [
      "Warning message:\n",
      "\"cannot remove prior installation of package 'rlang'\"Warning message in file.copy(savedcopy, lib, recursive = TRUE):\n",
      "\"problem copying C:\\Users\\RIK-PC\\anaconda3\\Lib\\R\\library\\00LOCK\\rlang\\libs\\x64\\rlang.dll to C:\\Users\\RIK-PC\\anaconda3\\Lib\\R\\library\\rlang\\libs\\x64\\rlang.dll: Permission denied\"Warning message in file.copy(savedcopy, lib, recursive = TRUE):\n",
      "\"problem copying C:\\Users\\RIK-PC\\anaconda3\\Lib\\R\\library\\00LOCK\\rlang\\libs\\x64\\rlang.dll.c~ to C:\\Users\\RIK-PC\\anaconda3\\Lib\\R\\library\\rlang\\libs\\x64\\rlang.dll.c~: Permission denied\"Warning message in file.copy(savedcopy, lib, recursive = TRUE):\n",
      "\"problem copying C:\\Users\\RIK-PC\\anaconda3\\Lib\\R\\library\\00LOCK\\rlang\\libs\\x64\\rlang.dll.c~.conda_trash to C:\\Users\\RIK-PC\\anaconda3\\Lib\\R\\library\\rlang\\libs\\x64\\rlang.dll.c~.conda_trash: Permission denied\"Warning message:\n",
      "\"restored 'rlang'\""
     ]
    },
    {
     "name": "stdout",
     "output_type": "stream",
     "text": [
      "package 'glue' successfully unpacked and MD5 sums checked\n"
     ]
    },
    {
     "name": "stderr",
     "output_type": "stream",
     "text": [
      "Warning message:\n",
      "\"cannot remove prior installation of package 'glue'\"Warning message in file.copy(savedcopy, lib, recursive = TRUE):\n",
      "\"problem copying C:\\Users\\RIK-PC\\anaconda3\\Lib\\R\\library\\00LOCK\\glue\\libs\\x64\\glue.dll to C:\\Users\\RIK-PC\\anaconda3\\Lib\\R\\library\\glue\\libs\\x64\\glue.dll: Permission denied\"Warning message in file.copy(savedcopy, lib, recursive = TRUE):\n",
      "\"problem copying C:\\Users\\RIK-PC\\anaconda3\\Lib\\R\\library\\00LOCK\\glue\\libs\\x64\\glue.dll.c~ to C:\\Users\\RIK-PC\\anaconda3\\Lib\\R\\library\\glue\\libs\\x64\\glue.dll.c~: Permission denied\"Warning message in file.copy(savedcopy, lib, recursive = TRUE):\n",
      "\"problem copying C:\\Users\\RIK-PC\\anaconda3\\Lib\\R\\library\\00LOCK\\glue\\libs\\x64\\glue.dll.c~.conda_trash to C:\\Users\\RIK-PC\\anaconda3\\Lib\\R\\library\\glue\\libs\\x64\\glue.dll.c~.conda_trash: Permission denied\"Warning message:\n",
      "\"restored 'glue'\""
     ]
    },
    {
     "name": "stdout",
     "output_type": "stream",
     "text": [
      "package 'tidyselect' successfully unpacked and MD5 sums checked\n"
     ]
    },
    {
     "name": "stderr",
     "output_type": "stream",
     "text": [
      "Warning message:\n",
      "\"cannot remove prior installation of package 'tidyselect'\"Warning message in file.copy(savedcopy, lib, recursive = TRUE):\n",
      "\"problem copying C:\\Users\\RIK-PC\\anaconda3\\Lib\\R\\library\\00LOCK\\tidyselect\\libs\\x64\\tidyselect.dll to C:\\Users\\RIK-PC\\anaconda3\\Lib\\R\\library\\tidyselect\\libs\\x64\\tidyselect.dll: Permission denied\"Warning message:\n",
      "\"restored 'tidyselect'\""
     ]
    },
    {
     "name": "stdout",
     "output_type": "stream",
     "text": [
      "package 'scales' successfully unpacked and MD5 sums checked\n"
     ]
    },
    {
     "name": "stderr",
     "output_type": "stream",
     "text": [
      "Warning message:\n",
      "\"cannot remove prior installation of package 'scales'\"Warning message in file.copy(savedcopy, lib, recursive = TRUE):\n",
      "\"problem copying C:\\Users\\RIK-PC\\anaconda3\\Lib\\R\\library\\00LOCK\\scales\\libs\\x64\\scales.dll to C:\\Users\\RIK-PC\\anaconda3\\Lib\\R\\library\\scales\\libs\\x64\\scales.dll: Permission denied\"Warning message:\n",
      "\"restored 'scales'\""
     ]
    },
    {
     "name": "stdout",
     "output_type": "stream",
     "text": [
      "\n",
      "The downloaded binary packages are in\n",
      "\tC:\\Users\\RIK-PC\\AppData\\Local\\Temp\\RtmpsF93Os\\downloaded_packages\n"
     ]
    },
    {
     "name": "stderr",
     "output_type": "stream",
     "text": [
      "installing the source packages 'pillar', 'ggplot2', 'lifecycle', 'GGally'\n",
      "\n",
      "Warning message in install.packages(\"GGally\"):\n",
      "\"installation of package 'ggplot2' had non-zero exit status\"Warning message in install.packages(\"GGally\"):\n",
      "\"installation of package 'lifecycle' had non-zero exit status\"Warning message in install.packages(\"GGally\"):\n",
      "\"installation of package 'pillar' had non-zero exit status\"Warning message in install.packages(\"GGally\"):\n",
      "\"installation of package 'GGally' had non-zero exit status\""
     ]
    }
   ],
   "source": [
    "install.packages(\"GGally\")"
   ]
  },
  {
   "cell_type": "code",
   "execution_count": 22,
   "metadata": {},
   "outputs": [
    {
     "ename": "ERROR",
     "evalue": "Error in library(GGally): there is no package called 'GGally'\n",
     "output_type": "error",
     "traceback": [
      "Error in library(GGally): there is no package called 'GGally'\nTraceback:\n",
      "1. library(GGally)"
     ]
    }
   ],
   "source": [
    "library(GGally)"
   ]
  },
  {
   "cell_type": "code",
   "execution_count": 23,
   "metadata": {},
   "outputs": [],
   "source": [
    "library(ggridges)"
   ]
  },
  {
   "cell_type": "code",
   "execution_count": 24,
   "metadata": {},
   "outputs": [],
   "source": [
    "library(ggthemes)"
   ]
  },
  {
   "cell_type": "code",
   "execution_count": 25,
   "metadata": {},
   "outputs": [],
   "source": [
    "library(dbscan)"
   ]
  },
  {
   "cell_type": "code",
   "execution_count": 27,
   "metadata": {},
   "outputs": [],
   "source": [
    "df<-read.csv(\"penguins_size.csv\")"
   ]
  },
  {
   "cell_type": "code",
   "execution_count": 29,
   "metadata": {},
   "outputs": [
    {
     "data": {
      "text/html": [
       "<table>\n",
       "<thead><tr><th scope=col>species</th><th scope=col>island</th><th scope=col>culmen_length_mm</th><th scope=col>culmen_depth_mm</th><th scope=col>flipper_length_mm</th><th scope=col>body_mass_g</th><th scope=col>sex</th></tr></thead>\n",
       "<tbody>\n",
       "\t<tr><td>0    </td><td>0    </td><td>0.581</td><td>0.581</td><td>0.581</td><td>0.581</td><td>2.907</td></tr>\n",
       "</tbody>\n",
       "</table>\n"
      ],
      "text/latex": [
       "\\begin{tabular}{r|lllllll}\n",
       " species & island & culmen\\_length\\_mm & culmen\\_depth\\_mm & flipper\\_length\\_mm & body\\_mass\\_g & sex\\\\\n",
       "\\hline\n",
       "\t 0     & 0     & 0.581 & 0.581 & 0.581 & 0.581 & 2.907\\\\\n",
       "\\end{tabular}\n"
      ],
      "text/markdown": [
       "\n",
       "| species | island | culmen_length_mm | culmen_depth_mm | flipper_length_mm | body_mass_g | sex |\n",
       "|---|---|---|---|---|---|---|\n",
       "| 0     | 0     | 0.581 | 0.581 | 0.581 | 0.581 | 2.907 |\n",
       "\n"
      ],
      "text/plain": [
       "  species island culmen_length_mm culmen_depth_mm flipper_length_mm body_mass_g\n",
       "1 0       0      0.581            0.581           0.581             0.581      \n",
       "  sex  \n",
       "1 2.907"
      ]
     },
     "metadata": {},
     "output_type": "display_data"
    }
   ],
   "source": [
    "data.frame(t(round(colSums(is.na(df))/nrow(df)*100,3)))\n"
   ]
  },
  {
   "cell_type": "code",
   "execution_count": 30,
   "metadata": {},
   "outputs": [],
   "source": [
    "mode <- function(x, na.rm){\n",
    "    if(na.rm){\n",
    "        x <- na.omit(x)\n",
    "    }\n",
    "    return (names(which.max(table(x))))\n",
    "}"
   ]
  },
  {
   "cell_type": "code",
   "execution_count": 31,
   "metadata": {},
   "outputs": [],
   "source": [
    "impute.mean <- function(x) replace(x, is.na(x), mean(x, na.rm = TRUE))"
   ]
  },
  {
   "cell_type": "code",
   "execution_count": 32,
   "metadata": {},
   "outputs": [],
   "source": [
    "impute.mode <- function(x) replace(x, is.na(x), mode(x, na.rm = TRUE))"
   ]
  },
  {
   "cell_type": "code",
   "execution_count": 34,
   "metadata": {},
   "outputs": [],
   "source": [
    "df %>%\n",
    "    group_by(species, island) %>%\n",
    "    mutate(\n",
    "        culmen_length_mm = impute.mean(culmen_length_mm),\n",
    "        culmen_depth_mm = impute.mean(culmen_depth_mm),\n",
    "        flipper_length_mm = impute.mean(flipper_length_mm),\n",
    "        body_mass_g = impute.mean(body_mass_g),\n",
    "        sex = impute.mode(sex)\n",
    "    ) -> df"
   ]
  },
  {
   "cell_type": "code",
   "execution_count": 36,
   "metadata": {},
   "outputs": [
    {
     "data": {
      "text/plain": [
       "\n",
       "     . FEMALE   MALE \n",
       "     1    170    173 "
      ]
     },
     "metadata": {},
     "output_type": "display_data"
    }
   ],
   "source": [
    "table(df$sex)"
   ]
  },
  {
   "cell_type": "code",
   "execution_count": 37,
   "metadata": {},
   "outputs": [],
   "source": [
    "df$sex[df$sex==\".\"] <- \"MALE\""
   ]
  },
  {
   "cell_type": "code",
   "execution_count": 38,
   "metadata": {},
   "outputs": [
    {
     "data": {
      "text/html": [
       "<table>\n",
       "<thead><tr><th scope=col>species</th><th scope=col>island</th><th scope=col>culmen_length_mm</th><th scope=col>culmen_depth_mm</th><th scope=col>flipper_length_mm</th><th scope=col>body_mass_g</th><th scope=col>sex</th></tr></thead>\n",
       "<tbody>\n",
       "\t<tr><td>Adelie   </td><td>Torgersen</td><td>39.10000 </td><td>18.70000 </td><td>181.0000 </td><td>3750.000 </td><td>MALE     </td></tr>\n",
       "\t<tr><td>Adelie   </td><td>Torgersen</td><td>39.50000 </td><td>17.40000 </td><td>186.0000 </td><td>3800.000 </td><td>FEMALE   </td></tr>\n",
       "\t<tr><td>Adelie   </td><td>Torgersen</td><td>40.30000 </td><td>18.00000 </td><td>195.0000 </td><td>3250.000 </td><td>FEMALE   </td></tr>\n",
       "\t<tr><td>Adelie   </td><td>Torgersen</td><td>38.95098 </td><td>18.42941 </td><td>191.1961 </td><td>3706.373 </td><td>FEMALE   </td></tr>\n",
       "\t<tr><td>Adelie   </td><td>Torgersen</td><td>36.70000 </td><td>19.30000 </td><td>193.0000 </td><td>3450.000 </td><td>FEMALE   </td></tr>\n",
       "\t<tr><td>Adelie   </td><td>Torgersen</td><td>39.30000 </td><td>20.60000 </td><td>190.0000 </td><td>3650.000 </td><td>MALE     </td></tr>\n",
       "</tbody>\n",
       "</table>\n"
      ],
      "text/latex": [
       "\\begin{tabular}{r|lllllll}\n",
       " species & island & culmen\\_length\\_mm & culmen\\_depth\\_mm & flipper\\_length\\_mm & body\\_mass\\_g & sex\\\\\n",
       "\\hline\n",
       "\t Adelie    & Torgersen & 39.10000  & 18.70000  & 181.0000  & 3750.000  & MALE     \\\\\n",
       "\t Adelie    & Torgersen & 39.50000  & 17.40000  & 186.0000  & 3800.000  & FEMALE   \\\\\n",
       "\t Adelie    & Torgersen & 40.30000  & 18.00000  & 195.0000  & 3250.000  & FEMALE   \\\\\n",
       "\t Adelie    & Torgersen & 38.95098  & 18.42941  & 191.1961  & 3706.373  & FEMALE   \\\\\n",
       "\t Adelie    & Torgersen & 36.70000  & 19.30000  & 193.0000  & 3450.000  & FEMALE   \\\\\n",
       "\t Adelie    & Torgersen & 39.30000  & 20.60000  & 190.0000  & 3650.000  & MALE     \\\\\n",
       "\\end{tabular}\n"
      ],
      "text/markdown": [
       "\n",
       "| species | island | culmen_length_mm | culmen_depth_mm | flipper_length_mm | body_mass_g | sex |\n",
       "|---|---|---|---|---|---|---|\n",
       "| Adelie    | Torgersen | 39.10000  | 18.70000  | 181.0000  | 3750.000  | MALE      |\n",
       "| Adelie    | Torgersen | 39.50000  | 17.40000  | 186.0000  | 3800.000  | FEMALE    |\n",
       "| Adelie    | Torgersen | 40.30000  | 18.00000  | 195.0000  | 3250.000  | FEMALE    |\n",
       "| Adelie    | Torgersen | 38.95098  | 18.42941  | 191.1961  | 3706.373  | FEMALE    |\n",
       "| Adelie    | Torgersen | 36.70000  | 19.30000  | 193.0000  | 3450.000  | FEMALE    |\n",
       "| Adelie    | Torgersen | 39.30000  | 20.60000  | 190.0000  | 3650.000  | MALE      |\n",
       "\n"
      ],
      "text/plain": [
       "  species island    culmen_length_mm culmen_depth_mm flipper_length_mm\n",
       "1 Adelie  Torgersen 39.10000         18.70000        181.0000         \n",
       "2 Adelie  Torgersen 39.50000         17.40000        186.0000         \n",
       "3 Adelie  Torgersen 40.30000         18.00000        195.0000         \n",
       "4 Adelie  Torgersen 38.95098         18.42941        191.1961         \n",
       "5 Adelie  Torgersen 36.70000         19.30000        193.0000         \n",
       "6 Adelie  Torgersen 39.30000         20.60000        190.0000         \n",
       "  body_mass_g sex   \n",
       "1 3750.000    MALE  \n",
       "2 3800.000    FEMALE\n",
       "3 3250.000    FEMALE\n",
       "4 3706.373    FEMALE\n",
       "5 3450.000    FEMALE\n",
       "6 3650.000    MALE  "
      ]
     },
     "metadata": {},
     "output_type": "display_data"
    }
   ],
   "source": [
    "head(df)"
   ]
  },
  {
   "cell_type": "code",
   "execution_count": 39,
   "metadata": {},
   "outputs": [],
   "source": [
    "options(repr.plot.width = 14, repr.plot.height = 10)"
   ]
  },
  {
   "cell_type": "code",
   "execution_count": 41,
   "metadata": {},
   "outputs": [],
   "source": [
    "HisCL <- ggplot(data=df, aes(x=culmen_length_mm,  y=species))+\n",
    "  geom_density_ridges(alpha=.4, aes(fill=species)) +\n",
    "  xlab(\"Culmen Length (mm)\") +  \n",
    "  ylab(\"Density\") + \n",
    "  theme(legend.position=\"none\")+\n",
    "  ggtitle(\"Density of Culmin Length\")+\n",
    "                  theme_economist() +\n",
    "                  theme_solarized(light=FALSE)+\n",
    "                  scale_colour_solarized('blue')"
   ]
  },
  {
   "cell_type": "code",
   "execution_count": 42,
   "metadata": {},
   "outputs": [],
   "source": [
    "HistCD <- ggplot(data=df, aes(x=culmen_depth_mm,  y=species)) +\n",
    "  geom_density_ridges(alpha=0.4, aes(fill=species)) +\n",
    "  xlab(\"Culmen Depth (mm)\") +  \n",
    "  ylab(\"Density\") + \n",
    "  theme(legend.position=\"none\")+\n",
    "  ggtitle(\"Density of Culmen Depth\")+\n",
    "                  theme_economist() +\n",
    "                  theme_solarized(light=FALSE)+\n",
    "                  scale_colour_solarized('blue')"
   ]
  },
  {
   "cell_type": "code",
   "execution_count": 43,
   "metadata": {},
   "outputs": [],
   "source": [
    "HistFL <- ggplot(data=df, aes(x=flipper_length_mm,  y=species))+\n",
    "  geom_density_ridges(alpha=.4, aes(fill=species)) + \n",
    "  xlab(\"Flipper Length (mm)\") +  \n",
    "  ylab(\"Density\") + \n",
    "  theme(legend.position=\"none\")+\n",
    "  ggtitle(\"Density of Flipper Length\")+\n",
    "                  theme_economist() +\n",
    "                  theme_solarized(light=FALSE)+\n",
    "                  scale_colour_solarized('blue')"
   ]
  },
  {
   "cell_type": "code",
   "execution_count": 44,
   "metadata": {},
   "outputs": [],
   "source": [
    "HistBM <- ggplot(data=df, aes(x=body_mass_g,  y=species))+\n",
    "  geom_density_ridges(alpha=.4, aes(fill=species)) +\n",
    "  xlab(\"Body Mass (g)\") +  \n",
    "  ylab(\"Density\") + \n",
    "  theme(legend.position=\"none\" )+\n",
    "  ggtitle(\"Density of Body Mass\")+\n",
    "                  theme_economist() +\n",
    "                  theme_solarized(light=FALSE)+\n",
    "                  scale_colour_solarized('blue')"
   ]
  },
  {
   "cell_type": "code",
   "execution_count": 45,
   "metadata": {},
   "outputs": [
    {
     "name": "stderr",
     "output_type": "stream",
     "text": [
      "Picking joint bandwidth of 1.07\n",
      "Picking joint bandwidth of 0.381\n",
      "Picking joint bandwidth of 2.37\n",
      "Picking joint bandwidth of 152\n"
     ]
    },
    {
     "data": {
      "image/png": "[encoded data removed]",
      "text/plain": [
       "plot without title"
      ]
     },
     "metadata": {},
     "output_type": "display_data"
    }
   ],
   "source": [
    "grid.arrange(HisCL + ggtitle(\"\"),\n",
    "             HistCD + ggtitle(\"\"),\n",
    "             HistFL + ggtitle(\"\"),\n",
    "             HistBM  + ggtitle(\"\"),\n",
    "             nrow = 2,\n",
    "             top = textGrob(\"Penguin Density Plots\", \n",
    "                            gp=gpar(fontsize=15))\n",
    ")"
   ]
  },
  {
   "cell_type": "code",
   "execution_count": 46,
   "metadata": {},
   "outputs": [],
   "source": [
    "options(repr.plot.width = 13, repr.plot.height = 14)"
   ]
  },
  {
   "cell_type": "code",
   "execution_count": 79,
   "metadata": {},
   "outputs": [],
   "source": [
    "HisCL <- ggplot(df, aes(species, culmen_length_mm,  fill = species)) +\n",
    "    geom_violin(width=1) +\n",
    "    geom_boxplot(width=0.07,outlier.shape = NA, color=\"white\") + \n",
    "    coord_flip() +\n",
    "    xlab(\"Culmen Length (mm)\") +  \n",
    "    ylab(\"Species\") + \n",
    "    theme(legend.position=\"none\")+\n",
    "    ggtitle(\"Violin of Culmin Length\")+\n",
    "    geom_hline(data=df, aes(yintercept = mean(culmen_length_mm)),\n",
    "             linetype=\"dashed\",color=\"grey\")"
   ]
  },
  {
   "cell_type": "code",
   "execution_count": 77,
   "metadata": {},
   "outputs": [],
   "source": [
    "HistCD <- ggplot(df, aes(culmen_depth_mm, species, fill = species)) +\n",
    "    geom_violin(width=1) +\n",
    "    geom_boxplot(width=0.007,outlier.shape = NA, color=\"white\") +\n",
    "    coord_flip() + \n",
    "  xlab(\"Culmen Depth (mm)\") +  \n",
    "  ylab(\"Species\") + \n",
    "  theme(legend.position=\"none\")+\n",
    "  ggtitle(\"Violin of Culmen Depth\")+\n",
    "  geom_hline(data=df, aes(yintercept = mean(culmen_depth_mm)),\n",
    "             linetype=\"dashed\",color=\"grey\")"
   ]
  },
  {
   "cell_type": "code",
   "execution_count": 49,
   "metadata": {},
   "outputs": [],
   "source": [
    "HistFL <- ggplot(df, aes(flipper_length_mm, species, fill = species)) +\n",
    "    geom_violin(width=1) +\n",
    "    geom_boxplot(width=0.07,outlier.shape = NA, color=\"white\") +\n",
    "    coord_flip() + \n",
    "  xlab(\"Flipper Length (mm)\") +  \n",
    "  ylab(\"Species\") + \n",
    "  theme(legend.position=\"none\")+\n",
    "  ggtitle(\"Violin of Flipper Length\")+\n",
    "  geom_hline(data=df, aes(yintercept = mean(flipper_length_mm)),\n",
    "             linetype=\"dashed\",color=\"grey\")"
   ]
  },
  {
   "cell_type": "code",
   "execution_count": 50,
   "metadata": {},
   "outputs": [],
   "source": [
    "HistBM <- ggplot(df, aes(body_mass_g, species, fill = species)) +\n",
    "    geom_violin(width=1) +\n",
    "    geom_boxplot(width=0.07,outlier.shape = NA, color=\"white\") +\n",
    "    coord_flip() + \n",
    "  xlab(\"Body Mass (g)\") +  \n",
    "  ylab(\"Species\") + \n",
    "  theme(legend.position=\"none\" )+\n",
    "  ggtitle(\"Violin of Body Mass\")+\n",
    "  geom_hline(data=df, aes(yintercept = mean(body_mass_g)),linetype=\"dashed\",color=\"grey\")"
   ]
  },
  {
   "cell_type": "code",
   "execution_count": 81,
   "metadata": {},
   "outputs": [
    {
     "name": "stderr",
     "output_type": "stream",
     "text": [
      "Warning message:\n",
      "\"position_dodge requires non-overlapping x intervals\"Warning message:\n",
      "\"position_dodge requires non-overlapping x intervals\"Warning message:\n",
      "\"position_dodge requires non-overlapping x intervals\""
     ]
    },
    {
     "data": {
      "image/png": "[encoded data removed]",
      "text/plain": [
       "plot without title"
      ]
     },
     "metadata": {},
     "output_type": "display_data"
    }
   ],
   "source": [
    "grid.arrange(HisCL + ggtitle(\"\"),\n",
    "             HistCD + ggtitle(\"\"),\n",
    "             HistFL + ggtitle(\"\"),\n",
    "             HistBM  + ggtitle(\"\"),\n",
    "             nrow = 2,\n",
    "             top = textGrob(\"Penguin Violin Plots\", \n",
    "                            gp=gpar(fontsize=15))\n",
    ")"
   ]
  },
  {
   "cell_type": "code",
   "execution_count": 80,
   "metadata": {},
   "outputs": [
    {
     "data": {
      "image/png": "[encoded data removed]",
      "text/plain": [
       "plot without title"
      ]
     },
     "metadata": {},
     "output_type": "display_data"
    }
   ],
   "source": [
    "HisCL"
   ]
  },
  {
   "cell_type": "code",
   "execution_count": 82,
   "metadata": {},
   "outputs": [
    {
     "data": {
      "text/html": [
       "<table>\n",
       "<thead><tr><th scope=col>y</th><th scope=col>x</th></tr></thead>\n",
       "<tbody>\n",
       "\t<tr><td>culmen_length_mm </td><td>4.402086e-54     </td></tr>\n",
       "\t<tr><td>culmen_depth_mm  </td><td>7.458847e-50     </td></tr>\n",
       "\t<tr><td>flipper_length_mm</td><td>2.942183e-54     </td></tr>\n",
       "\t<tr><td>body_mass_g      </td><td>2.381292e-48     </td></tr>\n",
       "</tbody>\n",
       "</table>\n"
      ],
      "text/latex": [
       "\\begin{tabular}{r|ll}\n",
       " y & x\\\\\n",
       "\\hline\n",
       "\t culmen\\_length\\_mm  & 4.402086e-54         \\\\\n",
       "\t culmen\\_depth\\_mm   & 7.458847e-50         \\\\\n",
       "\t flipper\\_length\\_mm & 2.942183e-54         \\\\\n",
       "\t body\\_mass\\_g       & 2.381292e-48         \\\\\n",
       "\\end{tabular}\n"
      ],
      "text/markdown": [
       "\n",
       "| y | x |\n",
       "|---|---|\n",
       "| culmen_length_mm  | 4.402086e-54      |\n",
       "| culmen_depth_mm   | 7.458847e-50      |\n",
       "| flipper_length_mm | 2.942183e-54      |\n",
       "| body_mass_g       | 2.381292e-48      |\n",
       "\n"
      ],
      "text/plain": [
       "  y                 x           \n",
       "1 culmen_length_mm  4.402086e-54\n",
       "2 culmen_depth_mm   7.458847e-50\n",
       "3 flipper_length_mm 2.942183e-54\n",
       "4 body_mass_g       2.381292e-48"
      ]
     },
     "metadata": {},
     "output_type": "display_data"
    }
   ],
   "source": [
    "clp <- kruskal.test(culmen_length_mm ~ species, data=df)$p.value\n",
    "cdp <- kruskal.test(culmen_depth_mm ~ species, data=df)$p.value\n",
    "flp <- kruskal.test(flipper_length_mm ~ species, data=df)$p.value\n",
    "bmp <- kruskal.test(body_mass_g ~ species, data=df)$p.value\n",
    "\n",
    "data.frame(y=colnames(df)[3:6], x=c(clp, cdp, flp, bmp))"
   ]
  },
  {
   "cell_type": "code",
   "execution_count": 83,
   "metadata": {},
   "outputs": [
    {
     "ename": "ERROR",
     "evalue": "Error in ggpairs(data = df, columns = 4:6, title = \"Penguins Correlation Plot\", : could not find function \"ggpairs\"\n",
     "output_type": "error",
     "traceback": [
      "Error in ggpairs(data = df, columns = 4:6, title = \"Penguins Correlation Plot\", : could not find function \"ggpairs\"\nTraceback:\n"
     ]
    }
   ],
   "source": [
    "ggpairs(data = df,\n",
    "        columns = 4:6,\n",
    "        title = \"Penguins Correlation Plot\",\n",
    "        ggplot2::aes(colour=species),\n",
    "        axisLabels=\"none\") +\n",
    "    theme_economist() +\n",
    "    tema"
   ]
  },
  {
   "cell_type": "code",
   "execution_count": 1,
   "metadata": {},
   "outputs": [
    {
     "ename": "ERROR",
     "evalue": "Error in library(GGally): there is no package called 'GGally'\n",
     "output_type": "error",
     "traceback": [
      "Error in library(GGally): there is no package called 'GGally'\nTraceback:\n",
      "1. library(GGally)"
     ]
    }
   ],
   "source": [
    "library(GGally)"
   ]
  }
 ],
 "metadata": {
  "kernelspec": {
   "display_name": "R",
   "language": "R",
   "name": "python397jvsc74a57bd01baa3fbabd58066be77fcb891154b8352bfa57c340a2cc52286c11f6046f4c4b"
  },
  "language_info": {
   "codemirror_mode": "r",
   "file_extension": ".r",
   "mimetype": "text/x-r-source",
   "name": "R",
   "pygments_lexer": "r",
   "version": "3.6.1"
  },
  "orig_nbformat": 4
 },
 "nbformat": 4,
 "nbformat_minor": 2
}
